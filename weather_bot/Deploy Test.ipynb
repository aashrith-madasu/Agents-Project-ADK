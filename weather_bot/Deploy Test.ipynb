{
 "cells": [
  {
   "cell_type": "code",
   "execution_count": 1,
   "id": "8cec463a",
   "metadata": {},
   "outputs": [],
   "source": [
    "import vertexai\n",
    "\n",
    "PROJECT_ID = \"learning-adk-462618\"\n",
    "LOCATION = \"us-central1\"\n",
    "STAGING_BUCKET = \"gs://learning-vertexai-1903\"\n",
    "\n",
    "vertexai.init(\n",
    "    project=PROJECT_ID,\n",
    "    location=LOCATION,\n",
    "    staging_bucket=STAGING_BUCKET,\n",
    ")"
   ]
  },
  {
   "cell_type": "code",
   "execution_count": 2,
   "id": "46d4df9e",
   "metadata": {},
   "outputs": [],
   "source": [
    "from vertexai.preview import reasoning_engines\n",
    "from agent import weather_agent_team\n",
    "\n",
    "app = reasoning_engines.AdkApp(\n",
    "    agent=weather_agent_team,\n",
    "    # enable_tracing=True,\n",
    ")"
   ]
  },
  {
   "cell_type": "code",
   "execution_count": 3,
   "id": "7dfd7dfb",
   "metadata": {},
   "outputs": [
    {
     "data": {
      "text/plain": [
       "Session(id='950a5268-70ed-4300-aba1-2b6532b429dd', app_name='default-app-name', user_id='u_123', state={}, events=[], last_update_time=1750209694.003173)"
      ]
     },
     "execution_count": 3,
     "metadata": {},
     "output_type": "execute_result"
    }
   ],
   "source": [
    "session = app.create_session(user_id=\"u_123\")\n",
    "session"
   ]
  },
  {
   "cell_type": "code",
   "execution_count": 4,
   "id": "35a130b2",
   "metadata": {},
   "outputs": [
    {
     "data": {
      "text/plain": [
       "ListSessionsResponse(sessions=[Session(id='950a5268-70ed-4300-aba1-2b6532b429dd', app_name='default-app-name', user_id='u_123', state={}, events=[], last_update_time=1750209694.003173)])"
      ]
     },
     "execution_count": 4,
     "metadata": {},
     "output_type": "execute_result"
    }
   ],
   "source": [
    "app.list_sessions(user_id=\"u_123\")"
   ]
  },
  {
   "cell_type": "code",
   "execution_count": 5,
   "id": "77a485c2",
   "metadata": {},
   "outputs": [
    {
     "data": {
      "text/plain": [
       "Session(id='950a5268-70ed-4300-aba1-2b6532b429dd', app_name='default-app-name', user_id='u_123', state={}, events=[], last_update_time=1750209694.003173)"
      ]
     },
     "execution_count": 5,
     "metadata": {},
     "output_type": "execute_result"
    }
   ],
   "source": [
    "session = app.get_session(user_id=\"u_123\", session_id=session.id)\n",
    "session"
   ]
  },
  {
   "cell_type": "code",
   "execution_count": 6,
   "id": "263967bc",
   "metadata": {},
   "outputs": [
    {
     "name": "stdout",
     "output_type": "stream",
     "text": [
      "--- Callback: block_keyword_guardrail running for agent: weather_agent_v2 ---\n",
      "--- Callback: Printing llm request content: {'parts': [{'video_metadata': None, 'thought': None, 'inline_data': None, 'file_data': None, 'thought_signature': None, 'code_execution_result': None, 'executable_code': None, 'function_call': None, 'function_response': None, 'text': 'whats the weather in new york'}], 'role': 'user'} ---\n",
      "--- Callback: Inspecting last user message: 'whats the weather in new york...' ---\n",
      "--- Callback: Keyword not found. Allowing LLM call for weather_agent_v2. ---\n",
      "[Callback] After model call for agent: weather_agent_v2\n",
      "[Callback] Inspected response: Contains function call 'get_weather_stateful'. No text modification.\n",
      "--- Callback: block_paris_tool_guardrail running for tool 'get_weather_stateful' in agent 'weather_agent_v2' ---\n",
      "--- Callback: Inspecting args: {'city': 'newyork'} ---\n",
      "--- Callback: City 'newyork' is allowed for tool 'get_weather_stateful'. ---\n",
      "--- Callback: Allowing tool 'get_weather_stateful' to proceed. ---\n",
      "--- Tool: get_weather_stateful called for newyork ---\n",
      "--- Tool: Reading state 'user_preference_temperature_unit': Celsius ---\n",
      "--- Tool: Generated report in Celsius. Result: {'status': 'success', 'report': 'The weather in Newyork is sunny with a temperature of 25°C.'} ---\n",
      "--- Tool: Updated state 'last_city_checked_stateful': newyork ---\n",
      "--- Callback: block_keyword_guardrail running for agent: weather_agent_v2 ---\n",
      "--- Callback: Printing llm request content: {'parts': [{'video_metadata': None, 'thought': None, 'inline_data': None, 'file_data': None, 'thought_signature': None, 'code_execution_result': None, 'executable_code': None, 'function_call': None, 'function_response': {'will_continue': None, 'scheduling': None, 'id': None, 'name': 'get_weather_stateful', 'response': {'status': 'success', 'report': 'The weather in Newyork is sunny with a temperature of 25°C.'}}, 'text': None}], 'role': 'user'} ---\n",
      "--- Callback: Printing llm request content: {'parts': [{'video_metadata': None, 'thought': None, 'inline_data': None, 'file_data': None, 'thought_signature': None, 'code_execution_result': None, 'executable_code': None, 'function_call': {'id': None, 'args': {'city': 'newyork'}, 'name': 'get_weather_stateful'}, 'function_response': None, 'text': None}], 'role': 'model'} ---\n",
      "--- Callback: Printing llm request content: {'parts': [{'video_metadata': None, 'thought': None, 'inline_data': None, 'file_data': None, 'thought_signature': None, 'code_execution_result': None, 'executable_code': None, 'function_call': None, 'function_response': None, 'text': 'whats the weather in new york'}], 'role': 'user'} ---\n",
      "--- Callback: Inspecting last user message: 'whats the weather in new york...' ---\n",
      "--- Callback: Keyword not found. Allowing LLM call for weather_agent_v2. ---\n",
      "{'content': {'parts': [{'function_call': {'id': 'adk-7239d7d7-9d0c-4fce-8072-9349d241b0bc', 'args': {'city': 'newyork'}, 'name': 'get_weather_stateful'}}], 'role': 'model'}, 'usage_metadata': {'candidates_token_count': 9, 'candidates_tokens_details': [{'modality': <MediaModality.TEXT: 'TEXT'>, 'token_count': 9}], 'prompt_token_count': 537, 'prompt_tokens_details': [{'modality': <MediaModality.TEXT: 'TEXT'>, 'token_count': 537}], 'total_token_count': 546, 'traffic_type': <TrafficType.ON_DEMAND: 'ON_DEMAND'>}, 'invocation_id': 'e-de2bcb50-8330-4c0f-8ab1-7f707f691065', 'author': 'weather_agent_v2', 'actions': {'state_delta': {}, 'artifact_delta': {}, 'requested_auth_configs': {}}, 'long_running_tool_ids': set(), 'id': 'I4V67D1V', 'timestamp': 1750209694.025437}\n",
      "{'content': {'parts': [{'function_response': {'id': 'adk-7239d7d7-9d0c-4fce-8072-9349d241b0bc', 'name': 'get_weather_stateful', 'response': {'status': 'success', 'report': 'The weather in Newyork is sunny with a temperature of 25°C.'}}}], 'role': 'user'}, 'invocation_id': 'e-de2bcb50-8330-4c0f-8ab1-7f707f691065', 'author': 'weather_agent_v2', 'actions': {'state_delta': {'user_preference_temperature_unit': 'Fahrenheit', 'last_city_checked_stateful': 'newyork'}, 'artifact_delta': {}, 'requested_auth_configs': {}}, 'id': 'zBQ0UKHq', 'timestamp': 1750209695.825475}\n",
      "[Callback] After model call for agent: weather_agent_v2\n",
      "[Callback] Inspected original response text: 'The weather in Newyork is sunny with a temperature of 25°C.\n",
      "...'\n",
      "{'content': {'parts': [{'text': 'The weather in Newyork is sunny with a temperature of 25°C.\\n'}], 'role': 'model'}, 'usage_metadata': {'candidates_token_count': 18, 'candidates_tokens_details': [{'modality': <MediaModality.TEXT: 'TEXT'>, 'token_count': 18}], 'prompt_token_count': 572, 'prompt_tokens_details': [{'modality': <MediaModality.TEXT: 'TEXT'>, 'token_count': 572}], 'total_token_count': 590, 'traffic_type': <TrafficType.ON_DEMAND: 'ON_DEMAND'>}, 'invocation_id': 'e-de2bcb50-8330-4c0f-8ab1-7f707f691065', 'author': 'weather_agent_v2', 'actions': {'state_delta': {'last_weather_report': 'The weather in Newyork is sunny with a temperature of 25°C.\\n'}, 'artifact_delta': {}, 'requested_auth_configs': {}}, 'id': 'nlcHfnQe', 'timestamp': 1750209695.826891}\n"
     ]
    }
   ],
   "source": [
    "for event in app.stream_query(\n",
    "    user_id=\"u_123\",\n",
    "    session_id=session.id,\n",
    "    message=\"whats the weather in new york\",\n",
    "):\n",
    "    print(event)"
   ]
  },
  {
   "cell_type": "code",
   "execution_count": 7,
   "id": "f780cef8",
   "metadata": {},
   "outputs": [
    {
     "name": "stdout",
     "output_type": "stream",
     "text": [
      "Deploying google.adk.agents.Agent as an application.\n"
     ]
    },
    {
     "name": "stderr",
     "output_type": "stream",
     "text": [
      "INFO:vertexai.agent_engines:Deploying google.adk.agents.Agent as an application.\n"
     ]
    },
    {
     "name": "stdout",
     "output_type": "stream",
     "text": [
      "Identified the following requirements: {'cloudpickle': '3.1.1', 'pydantic': '2.11.5', 'google-cloud-aiplatform': '1.96.0'}\n"
     ]
    },
    {
     "name": "stderr",
     "output_type": "stream",
     "text": [
      "INFO:vertexai.agent_engines:Identified the following requirements: {'cloudpickle': '3.1.1', 'pydantic': '2.11.5', 'google-cloud-aiplatform': '1.96.0'}\n"
     ]
    },
    {
     "name": "stdout",
     "output_type": "stream",
     "text": [
      "The following requirements are missing: {'cloudpickle', 'pydantic'}\n"
     ]
    },
    {
     "name": "stderr",
     "output_type": "stream",
     "text": [
      "WARNING:vertexai.agent_engines:The following requirements are missing: {'cloudpickle', 'pydantic'}\n"
     ]
    },
    {
     "name": "stdout",
     "output_type": "stream",
     "text": [
      "The following requirements are appended: {'pydantic==2.11.5', 'cloudpickle==3.1.1'}\n"
     ]
    },
    {
     "name": "stderr",
     "output_type": "stream",
     "text": [
      "INFO:vertexai.agent_engines:The following requirements are appended: {'pydantic==2.11.5', 'cloudpickle==3.1.1'}\n"
     ]
    },
    {
     "name": "stdout",
     "output_type": "stream",
     "text": [
      "The final list of requirements: ['google-cloud-aiplatform[adk,agent_engines]', 'pydantic==2.11.5', 'cloudpickle==3.1.1']\n"
     ]
    },
    {
     "name": "stderr",
     "output_type": "stream",
     "text": [
      "INFO:vertexai.agent_engines:The final list of requirements: ['google-cloud-aiplatform[adk,agent_engines]', 'pydantic==2.11.5', 'cloudpickle==3.1.1']\n"
     ]
    },
    {
     "name": "stdout",
     "output_type": "stream",
     "text": [
      "Using bucket learning-vertexai-1903\n"
     ]
    },
    {
     "name": "stderr",
     "output_type": "stream",
     "text": [
      "INFO:vertexai.agent_engines:Using bucket learning-vertexai-1903\n"
     ]
    },
    {
     "name": "stdout",
     "output_type": "stream",
     "text": [
      "Wrote to gs://learning-vertexai-1903/agent_engine/agent_engine.pkl\n"
     ]
    },
    {
     "name": "stderr",
     "output_type": "stream",
     "text": [
      "INFO:vertexai.agent_engines:Wrote to gs://learning-vertexai-1903/agent_engine/agent_engine.pkl\n"
     ]
    },
    {
     "name": "stdout",
     "output_type": "stream",
     "text": [
      "Writing to gs://learning-vertexai-1903/agent_engine/requirements.txt\n"
     ]
    },
    {
     "name": "stderr",
     "output_type": "stream",
     "text": [
      "INFO:vertexai.agent_engines:Writing to gs://learning-vertexai-1903/agent_engine/requirements.txt\n"
     ]
    },
    {
     "name": "stdout",
     "output_type": "stream",
     "text": [
      "Creating in-memory tarfile of extra_packages\n"
     ]
    },
    {
     "name": "stderr",
     "output_type": "stream",
     "text": [
      "INFO:vertexai.agent_engines:Creating in-memory tarfile of extra_packages\n"
     ]
    },
    {
     "name": "stdout",
     "output_type": "stream",
     "text": [
      "Writing to gs://learning-vertexai-1903/agent_engine/dependencies.tar.gz\n"
     ]
    },
    {
     "name": "stderr",
     "output_type": "stream",
     "text": [
      "INFO:vertexai.agent_engines:Writing to gs://learning-vertexai-1903/agent_engine/dependencies.tar.gz\n"
     ]
    },
    {
     "name": "stdout",
     "output_type": "stream",
     "text": [
      "Creating AgentEngine\n"
     ]
    },
    {
     "name": "stderr",
     "output_type": "stream",
     "text": [
      "INFO:vertexai.agent_engines:Creating AgentEngine\n"
     ]
    },
    {
     "name": "stdout",
     "output_type": "stream",
     "text": [
      "Create AgentEngine backing LRO: projects/609825494443/locations/us-central1/reasoningEngines/641032871179452416/operations/2169541878477750272\n"
     ]
    },
    {
     "name": "stderr",
     "output_type": "stream",
     "text": [
      "INFO:vertexai.agent_engines:Create AgentEngine backing LRO: projects/609825494443/locations/us-central1/reasoningEngines/641032871179452416/operations/2169541878477750272\n"
     ]
    },
    {
     "name": "stdout",
     "output_type": "stream",
     "text": [
      "View progress and logs at https://console.cloud.google.com/logs/query?project=learning-adk-462618\n"
     ]
    },
    {
     "name": "stderr",
     "output_type": "stream",
     "text": [
      "INFO:vertexai.agent_engines:View progress and logs at https://console.cloud.google.com/logs/query?project=learning-adk-462618\n"
     ]
    },
    {
     "ename": "InvalidArgument",
     "evalue": "400 Reasoning Engine instance 641032871179452416 failed to start and cannot serve traffic. Please refer to our documentation (https://cloud.google.com/vertex-ai/generative-ai/docs/reasoning-engine/troubleshooting/deploy) for checking logs and other troubleshooting tips.\n Please refer to our documentation (https://cloud.google.com/vertex-ai/generative-ai/docs/agent-engine/troubleshooting/deploy) for checking logs and other troubleshooting tips. 3: Reasoning Engine instance 641032871179452416 failed to start and cannot serve traffic. Please refer to our documentation (https://cloud.google.com/vertex-ai/generative-ai/docs/reasoning-engine/troubleshooting/deploy) for checking logs and other troubleshooting tips.\n Please refer to our documentation (https://cloud.google.com/vertex-ai/generative-ai/docs/agent-engine/troubleshooting/deploy) for checking logs and other troubleshooting tips.",
     "output_type": "error",
     "traceback": [
      "\u001b[0;31m---------------------------------------------------------------------------\u001b[0m",
      "\u001b[0;31mInvalidArgument\u001b[0m                           Traceback (most recent call last)",
      "Cell \u001b[0;32mIn[7], line 3\u001b[0m\n\u001b[1;32m      1\u001b[0m \u001b[38;5;28;01mfrom\u001b[39;00m\u001b[38;5;250m \u001b[39m\u001b[38;5;21;01mvertexai\u001b[39;00m\u001b[38;5;250m \u001b[39m\u001b[38;5;28;01mimport\u001b[39;00m agent_engines\n\u001b[0;32m----> 3\u001b[0m remote_app \u001b[38;5;241m=\u001b[39m \u001b[43magent_engines\u001b[49m\u001b[38;5;241;43m.\u001b[39;49m\u001b[43mcreate\u001b[49m\u001b[43m(\u001b[49m\n\u001b[1;32m      4\u001b[0m \u001b[43m    \u001b[49m\u001b[43magent_engine\u001b[49m\u001b[38;5;241;43m=\u001b[39;49m\u001b[43mweather_agent_team\u001b[49m\u001b[43m,\u001b[49m\n\u001b[1;32m      5\u001b[0m \u001b[43m    \u001b[49m\u001b[43mrequirements\u001b[49m\u001b[38;5;241;43m=\u001b[39;49m\u001b[43m[\u001b[49m\n\u001b[1;32m      6\u001b[0m \u001b[43m        \u001b[49m\u001b[38;5;124;43m\"\u001b[39;49m\u001b[38;5;124;43mgoogle-cloud-aiplatform[adk,agent_engines]\u001b[39;49m\u001b[38;5;124;43m\"\u001b[39;49m\u001b[43m   \u001b[49m\n\u001b[1;32m      7\u001b[0m \u001b[43m    \u001b[49m\u001b[43m]\u001b[49m\n\u001b[1;32m      8\u001b[0m \u001b[43m)\u001b[49m\n",
      "File \u001b[0;32m~/Desktop/Code/agents-project-adk/.venv/lib/python3.12/site-packages/vertexai/agent_engines/__init__.py:148\u001b[0m, in \u001b[0;36mcreate\u001b[0;34m(agent_engine, requirements, display_name, description, gcs_dir_name, extra_packages, env_vars)\u001b[0m\n\u001b[1;32m     62\u001b[0m \u001b[38;5;28;01mdef\u001b[39;00m\u001b[38;5;250m \u001b[39m\u001b[38;5;21mcreate\u001b[39m(\n\u001b[1;32m     63\u001b[0m     agent_engine: Optional[Union[Queryable, OperationRegistrable]] \u001b[38;5;241m=\u001b[39m \u001b[38;5;28;01mNone\u001b[39;00m,\n\u001b[1;32m     64\u001b[0m     \u001b[38;5;241m*\u001b[39m,\n\u001b[0;32m   (...)\u001b[0m\n\u001b[1;32m     72\u001b[0m     ] \u001b[38;5;241m=\u001b[39m \u001b[38;5;28;01mNone\u001b[39;00m,\n\u001b[1;32m     73\u001b[0m ) \u001b[38;5;241m-\u001b[39m\u001b[38;5;241m>\u001b[39m AgentEngine:\n\u001b[1;32m     74\u001b[0m \u001b[38;5;250m    \u001b[39m\u001b[38;5;124;03m\"\"\"Creates a new Agent Engine.\u001b[39;00m\n\u001b[1;32m     75\u001b[0m \n\u001b[1;32m     76\u001b[0m \u001b[38;5;124;03m    The Agent Engine will be an instance of the `agent_engine` that\u001b[39;00m\n\u001b[0;32m   (...)\u001b[0m\n\u001b[1;32m    146\u001b[0m \u001b[38;5;124;03m        nonexistent file.\u001b[39;00m\n\u001b[1;32m    147\u001b[0m \u001b[38;5;124;03m    \"\"\"\u001b[39;00m\n\u001b[0;32m--> 148\u001b[0m     \u001b[38;5;28;01mreturn\u001b[39;00m \u001b[43mAgentEngine\u001b[49m\u001b[38;5;241;43m.\u001b[39;49m\u001b[43mcreate\u001b[49m\u001b[43m(\u001b[49m\n\u001b[1;32m    149\u001b[0m \u001b[43m        \u001b[49m\u001b[43magent_engine\u001b[49m\u001b[38;5;241;43m=\u001b[39;49m\u001b[43magent_engine\u001b[49m\u001b[43m,\u001b[49m\n\u001b[1;32m    150\u001b[0m \u001b[43m        \u001b[49m\u001b[43mrequirements\u001b[49m\u001b[38;5;241;43m=\u001b[39;49m\u001b[43mrequirements\u001b[49m\u001b[43m,\u001b[49m\n\u001b[1;32m    151\u001b[0m \u001b[43m        \u001b[49m\u001b[43mdisplay_name\u001b[49m\u001b[38;5;241;43m=\u001b[39;49m\u001b[43mdisplay_name\u001b[49m\u001b[43m,\u001b[49m\n\u001b[1;32m    152\u001b[0m \u001b[43m        \u001b[49m\u001b[43mdescription\u001b[49m\u001b[38;5;241;43m=\u001b[39;49m\u001b[43mdescription\u001b[49m\u001b[43m,\u001b[49m\n\u001b[1;32m    153\u001b[0m \u001b[43m        \u001b[49m\u001b[43mgcs_dir_name\u001b[49m\u001b[38;5;241;43m=\u001b[39;49m\u001b[43mgcs_dir_name\u001b[49m\u001b[43m,\u001b[49m\n\u001b[1;32m    154\u001b[0m \u001b[43m        \u001b[49m\u001b[43mextra_packages\u001b[49m\u001b[38;5;241;43m=\u001b[39;49m\u001b[43mextra_packages\u001b[49m\u001b[43m,\u001b[49m\n\u001b[1;32m    155\u001b[0m \u001b[43m        \u001b[49m\u001b[43menv_vars\u001b[49m\u001b[38;5;241;43m=\u001b[39;49m\u001b[43menv_vars\u001b[49m\u001b[43m,\u001b[49m\n\u001b[1;32m    156\u001b[0m \u001b[43m    \u001b[49m\u001b[43m)\u001b[49m\n",
      "File \u001b[0;32m~/Desktop/Code/agents-project-adk/.venv/lib/python3.12/site-packages/vertexai/agent_engines/_agent_engines.py:474\u001b[0m, in \u001b[0;36mAgentEngine.create\u001b[0;34m(cls, agent_engine, requirements, display_name, description, gcs_dir_name, extra_packages, env_vars)\u001b[0m\n\u001b[1;32m    470\u001b[0m _LOGGER\u001b[38;5;241m.\u001b[39mlog_create_with_lro(\u001b[38;5;28mcls\u001b[39m, operation_future)\n\u001b[1;32m    471\u001b[0m _LOGGER\u001b[38;5;241m.\u001b[39minfo(\n\u001b[1;32m    472\u001b[0m     \u001b[38;5;124mf\u001b[39m\u001b[38;5;124m\"\u001b[39m\u001b[38;5;124mView progress and logs at https://console.cloud.google.com/logs/query?project=\u001b[39m\u001b[38;5;132;01m{\u001b[39;00msdk_resource\u001b[38;5;241m.\u001b[39mproject\u001b[38;5;132;01m}\u001b[39;00m\u001b[38;5;124m\"\u001b[39m\n\u001b[1;32m    473\u001b[0m )\n\u001b[0;32m--> 474\u001b[0m created_resource \u001b[38;5;241m=\u001b[39m \u001b[43moperation_future\u001b[49m\u001b[38;5;241;43m.\u001b[39;49m\u001b[43mresult\u001b[49m\u001b[43m(\u001b[49m\u001b[43m)\u001b[49m\n\u001b[1;32m    475\u001b[0m _LOGGER\u001b[38;5;241m.\u001b[39minfo(\u001b[38;5;124mf\u001b[39m\u001b[38;5;124m\"\u001b[39m\u001b[38;5;132;01m{\u001b[39;00m\u001b[38;5;28mcls\u001b[39m\u001b[38;5;241m.\u001b[39m\u001b[38;5;18m__name__\u001b[39m\u001b[38;5;132;01m}\u001b[39;00m\u001b[38;5;124m created. Resource name: \u001b[39m\u001b[38;5;132;01m{\u001b[39;00mcreated_resource\u001b[38;5;241m.\u001b[39mname\u001b[38;5;132;01m}\u001b[39;00m\u001b[38;5;124m\"\u001b[39m)\n\u001b[1;32m    476\u001b[0m _LOGGER\u001b[38;5;241m.\u001b[39minfo(\u001b[38;5;124mf\u001b[39m\u001b[38;5;124m\"\u001b[39m\u001b[38;5;124mTo use this \u001b[39m\u001b[38;5;132;01m{\u001b[39;00m\u001b[38;5;28mcls\u001b[39m\u001b[38;5;241m.\u001b[39m\u001b[38;5;18m__name__\u001b[39m\u001b[38;5;132;01m}\u001b[39;00m\u001b[38;5;124m in another session:\u001b[39m\u001b[38;5;124m\"\u001b[39m)\n",
      "File \u001b[0;32m~/Desktop/Code/agents-project-adk/.venv/lib/python3.12/site-packages/google/api_core/future/polling.py:261\u001b[0m, in \u001b[0;36mPollingFuture.result\u001b[0;34m(self, timeout, retry, polling)\u001b[0m\n\u001b[1;32m    256\u001b[0m \u001b[38;5;28mself\u001b[39m\u001b[38;5;241m.\u001b[39m_blocking_poll(timeout\u001b[38;5;241m=\u001b[39mtimeout, retry\u001b[38;5;241m=\u001b[39mretry, polling\u001b[38;5;241m=\u001b[39mpolling)\n\u001b[1;32m    258\u001b[0m \u001b[38;5;28;01mif\u001b[39;00m \u001b[38;5;28mself\u001b[39m\u001b[38;5;241m.\u001b[39m_exception \u001b[38;5;129;01mis\u001b[39;00m \u001b[38;5;129;01mnot\u001b[39;00m \u001b[38;5;28;01mNone\u001b[39;00m:\n\u001b[1;32m    259\u001b[0m     \u001b[38;5;66;03m# pylint: disable=raising-bad-type\u001b[39;00m\n\u001b[1;32m    260\u001b[0m     \u001b[38;5;66;03m# Pylint doesn't recognize that this is valid in this case.\u001b[39;00m\n\u001b[0;32m--> 261\u001b[0m     \u001b[38;5;28;01mraise\u001b[39;00m \u001b[38;5;28mself\u001b[39m\u001b[38;5;241m.\u001b[39m_exception\n\u001b[1;32m    263\u001b[0m \u001b[38;5;28;01mreturn\u001b[39;00m \u001b[38;5;28mself\u001b[39m\u001b[38;5;241m.\u001b[39m_result\n",
      "\u001b[0;31mInvalidArgument\u001b[0m: 400 Reasoning Engine instance 641032871179452416 failed to start and cannot serve traffic. Please refer to our documentation (https://cloud.google.com/vertex-ai/generative-ai/docs/reasoning-engine/troubleshooting/deploy) for checking logs and other troubleshooting tips.\n Please refer to our documentation (https://cloud.google.com/vertex-ai/generative-ai/docs/agent-engine/troubleshooting/deploy) for checking logs and other troubleshooting tips. 3: Reasoning Engine instance 641032871179452416 failed to start and cannot serve traffic. Please refer to our documentation (https://cloud.google.com/vertex-ai/generative-ai/docs/reasoning-engine/troubleshooting/deploy) for checking logs and other troubleshooting tips.\n Please refer to our documentation (https://cloud.google.com/vertex-ai/generative-ai/docs/agent-engine/troubleshooting/deploy) for checking logs and other troubleshooting tips."
     ]
    }
   ],
   "source": [
    "from vertexai import agent_engines\n",
    "\n",
    "remote_app = agent_engines.create(\n",
    "    agent_engine=weather_agent_team,\n",
    "    requirements=[\n",
    "        \"google-cloud-aiplatform[adk,agent_engines]\"   \n",
    "    ]\n",
    ")"
   ]
  },
  {
   "cell_type": "code",
   "execution_count": null,
   "id": "65b78ef7",
   "metadata": {},
   "outputs": [],
   "source": []
  }
 ],
 "metadata": {
  "kernelspec": {
   "display_name": ".venv",
   "language": "python",
   "name": "python3"
  },
  "language_info": {
   "codemirror_mode": {
    "name": "ipython",
    "version": 3
   },
   "file_extension": ".py",
   "mimetype": "text/x-python",
   "name": "python",
   "nbconvert_exporter": "python",
   "pygments_lexer": "ipython3",
   "version": "3.12.7"
  }
 },
 "nbformat": 4,
 "nbformat_minor": 5
}
